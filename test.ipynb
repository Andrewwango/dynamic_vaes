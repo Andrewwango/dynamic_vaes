{
 "cells": [
  {
   "cell_type": "code",
   "execution_count": 1,
   "metadata": {},
   "outputs": [],
   "source": [
    "import torch\n",
    "import numpy as np\n",
    "import os\n",
    "from kvae_model import KVAEModel\n",
    "from tqdm import tqdm\n",
    "import pickle\n",
    "\n",
    "from kvae import KVAE, load_bouncing_ball, export_vid\n",
    "import matplotlib\n",
    "matplotlib.use('TkAgg')\n",
    "import matplotlib.pyplot as plt\n",
    "%matplotlib inline"
   ]
  },
  {
   "cell_type": "code",
   "execution_count": 5,
   "metadata": {},
   "outputs": [],
   "source": [
    "batch_size=64\n",
    "train_dataset, val_dataset =  load_bouncing_ball(\"nonlinear_ball_data\", \"circle\")\n",
    "train_dataloader = torch.utils.data.DataLoader(train_dataset, batch_size=64, shuffle = True, num_workers = 2)"
   ]
  },
  {
   "cell_type": "code",
   "execution_count": 3,
   "metadata": {},
   "outputs": [
    {
     "name": "stderr",
     "output_type": "stream",
     "text": [
      "C:\\Users\\andre\\AppData\\Local\\Programs\\Python\\Python38\\lib\\site-packages\\torch\\utils\\data\\dataloader.py:478: UserWarning: This DataLoader will create 6 worker processes in total. Our suggested max number of worker in current system is 4 (`cpuset` is not taken into account), which is smaller than what this DataLoader is going to create. Please be aware that excessive worker creation might get DataLoader running slow or even freeze, lower the worker number to avoid potential slowness/freeze if necessary.\n",
      "  warnings.warn(_create_warning_msg(\n"
     ]
    }
   ],
   "source": [
    "batch_size = 64\n",
    "train_dataset, val_dataset =  load_bouncing_ball(\"bouncing_ball_data\", \"box\", singular=True)\n",
    "train_dataset = train_dataset[np.random.choice(5000, 2560)]\n",
    "val_dataset = val_dataset[np.random.choice(1000, 512)]\n",
    "train_dataloader = torch.utils.data.DataLoader(train_dataset, batch_size=batch_size, shuffle = True, num_workers = 6)\n",
    "val_dataloader   = torch.utils.data.DataLoader(val_dataset,   batch_size=batch_size, shuffle = True, num_workers = 6)"
   ]
  },
  {
   "cell_type": "code",
   "execution_count": 6,
   "metadata": {},
   "outputs": [],
   "source": [
    "model = KVAEModel(x_dim = 32 * 32, \n",
    "            a_dim = 4,\n",
    "            z_dim = 4, \n",
    "            x_2d=True,\n",
    "            init_kf_mat = 0.05,\n",
    "            noise_transition = 0.08,\n",
    "            noise_emission = 0.03,\n",
    "            init_cov = 20,\n",
    "            K = 3,\n",
    "            dim_RNN_alpha = 50,\n",
    "            num_RNN_alpha = 2,\n",
    "            dropout_p = 0,\n",
    "            scale_reconstruction = 0.3,\n",
    "            device='cpu').to('cpu')\n",
    "model.build()\n",
    "\n",
    "kvae = KVAE(model=model,\n",
    "            lr = 3e-3,#3e-6,\n",
    "            lr_tot = 1e-3,#1e-6,\n",
    "            epochs = 20,\n",
    "            batch_size = batch_size,\n",
    "            early_stop_patience = 20,\n",
    "            save_frequency = 1,\n",
    "            only_vae_epochs = 5,\n",
    "            kf_update_epochs = 5,\n",
    "            save_dir = \"results\")"
   ]
  },
  {
   "cell_type": "code",
   "execution_count": 7,
   "metadata": {},
   "outputs": [
    {
     "data": {
      "text/plain": [
       "<All keys matched successfully>"
      ]
     },
     "execution_count": 7,
     "metadata": {},
     "output_type": "execute_result"
    }
   ],
   "source": [
    "kvae.model.load_state_dict(torch.load(\"results/conv_test24_a_alldata_noonlyvae_origloss_a4/model_at_49.pt\", map_location='cpu'))"
   ]
  },
  {
   "cell_type": "code",
   "execution_count": 8,
   "metadata": {},
   "outputs": [
    {
     "name": "stdout",
     "output_type": "stream",
     "text": [
      "torch.Size([64, 32, 32, 40]) (64, 32, 32, 40)\n"
     ]
    }
   ],
   "source": [
    "export_vid(kvae, train_dataloader, j=4, both=True, epoch=555)"
   ]
  },
  {
   "cell_type": "code",
   "execution_count": 18,
   "metadata": {},
   "outputs": [],
   "source": [
    "t = torch.Tensor(train_dataloader.dataset[1:1+64])\n",
    "kvae.model.eval()\n",
    "with torch.no_grad():\n",
    "    x, y, a, a_gen, mu_smooth = kvae.model.forward_debug(t, compute_loss=False)"
   ]
  },
  {
   "cell_type": "code",
   "execution_count": 6,
   "metadata": {},
   "outputs": [
    {
     "ename": "RuntimeError",
     "evalue": "The size of tensor a (64) must match the size of tensor b (20) at non-singleton dimension 0",
     "output_type": "error",
     "traceback": [
      "\u001b[1;31m---------------------------------------------------------------------------\u001b[0m",
      "\u001b[1;31mRuntimeError\u001b[0m                              Traceback (most recent call last)",
      "\u001b[1;32m<ipython-input-6-e5b7a38ccbef>\u001b[0m in \u001b[0;36m<module>\u001b[1;34m\u001b[0m\n\u001b[1;32m----> 1\u001b[1;33m \u001b[0mkvae\u001b[0m\u001b[1;33m.\u001b[0m\u001b[0mgenerate\u001b[0m\u001b[1;33m(\u001b[0m\u001b[0mtorch\u001b[0m\u001b[1;33m.\u001b[0m\u001b[0mtensor\u001b[0m\u001b[1;33m(\u001b[0m\u001b[0mmu_smooth\u001b[0m\u001b[1;33m,\u001b[0m \u001b[0mrequires_grad\u001b[0m\u001b[1;33m=\u001b[0m\u001b[1;32mFalse\u001b[0m\u001b[1;33m)\u001b[0m\u001b[1;33m,\u001b[0m \u001b[0mn_steps\u001b[0m\u001b[1;33m=\u001b[0m\u001b[1;36m20\u001b[0m\u001b[1;33m)\u001b[0m\u001b[1;33m\u001b[0m\u001b[1;33m\u001b[0m\u001b[0m\n\u001b[0m",
      "\u001b[1;32mc:\\Users\\andre\\Desktop\\Repos\\VAEs\\kvae.py\u001b[0m in \u001b[0;36mgenerate\u001b[1;34m(self, z, n_steps)\u001b[0m\n\u001b[0;32m    265\u001b[0m             \u001b[0mC_mix\u001b[0m \u001b[1;33m=\u001b[0m \u001b[0malpha\u001b[0m\u001b[1;33m.\u001b[0m\u001b[0mmatmul\u001b[0m\u001b[1;33m(\u001b[0m\u001b[0mC_flatten\u001b[0m\u001b[1;33m)\u001b[0m\u001b[1;33m.\u001b[0m\u001b[0mview\u001b[0m\u001b[1;33m(\u001b[0m\u001b[1;33m-\u001b[0m\u001b[1;36m1\u001b[0m\u001b[1;33m,\u001b[0m \u001b[0mself\u001b[0m\u001b[1;33m.\u001b[0m\u001b[0mmodel\u001b[0m\u001b[1;33m.\u001b[0m\u001b[0ma_dim\u001b[0m\u001b[1;33m,\u001b[0m \u001b[0mself\u001b[0m\u001b[1;33m.\u001b[0m\u001b[0mmodel\u001b[0m\u001b[1;33m.\u001b[0m\u001b[0mz_dim\u001b[0m\u001b[1;33m)\u001b[0m\u001b[1;33m\u001b[0m\u001b[1;33m\u001b[0m\u001b[0m\n\u001b[0;32m    266\u001b[0m \u001b[1;33m\u001b[0m\u001b[0m\n\u001b[1;32m--> 267\u001b[1;33m             \u001b[0ma_gen\u001b[0m \u001b[1;33m=\u001b[0m \u001b[0mC_mix\u001b[0m\u001b[1;33m.\u001b[0m\u001b[0mmatmul\u001b[0m\u001b[1;33m(\u001b[0m\u001b[0mz\u001b[0m\u001b[1;33m)\u001b[0m\u001b[1;33m\u001b[0m\u001b[1;33m\u001b[0m\u001b[0m\n\u001b[0m\u001b[0;32m    268\u001b[0m             \u001b[1;31m#print(a_gen.shape, C_mix.shape, z.shape)\u001b[0m\u001b[1;33m\u001b[0m\u001b[1;33m\u001b[0m\u001b[1;33m\u001b[0m\u001b[0m\n\u001b[0;32m    269\u001b[0m             \u001b[1;32mwith\u001b[0m \u001b[0mtorch\u001b[0m\u001b[1;33m.\u001b[0m\u001b[0mno_grad\u001b[0m\u001b[1;33m(\u001b[0m\u001b[1;33m)\u001b[0m\u001b[1;33m:\u001b[0m\u001b[1;33m\u001b[0m\u001b[1;33m\u001b[0m\u001b[0m\n",
      "\u001b[1;31mRuntimeError\u001b[0m: The size of tensor a (64) must match the size of tensor b (20) at non-singleton dimension 0"
     ]
    }
   ],
   "source": [
    "kvae.generate(torch.tensor(mu_smooth, requires_grad=False), n_steps=20)"
   ]
  },
  {
   "cell_type": "code",
   "execution_count": 19,
   "metadata": {},
   "outputs": [
    {
     "data": {
      "image/png": "[encoded data removed]",
      "text/plain": [
       "<Figure size 432x288 with 1 Axes>"
      ]
     },
     "metadata": {
      "needs_background": "light"
     },
     "output_type": "display_data"
    }
   ],
   "source": [
    "plt.plot(a[:, 0, 0], a[:, 0, 1], \"r-\")\n",
    "plt.gca().invert_yaxis()"
   ]
  },
  {
   "cell_type": "code",
   "execution_count": 7,
   "metadata": {},
   "outputs": [
    {
     "data": {
      "image/png": "[encoded data removed]",
      "text/plain": [
       "<Figure size 432x288 with 1 Axes>"
      ]
     },
     "metadata": {
      "needs_background": "light"
     },
     "output_type": "display_data"
    }
   ],
   "source": [
    "plt.plot(mu_smooth[:, 0, 2], mu_smooth[:, 0, 3], \"r-\")\n",
    "plt.gca().invert_yaxis()"
   ]
  },
  {
   "cell_type": "code",
   "execution_count": null,
   "metadata": {},
   "outputs": [],
   "source": []
  },
  {
   "cell_type": "code",
   "execution_count": null,
   "metadata": {},
   "outputs": [],
   "source": []
  },
  {
   "cell_type": "code",
   "execution_count": null,
   "metadata": {},
   "outputs": [],
   "source": []
  },
  {
   "cell_type": "code",
   "execution_count": 22,
   "metadata": {},
   "outputs": [],
   "source": [
    "alpha = kvae.model.a_to_alpha(torch.tensor(a, requires_grad=False))"
   ]
  },
  {
   "cell_type": "code",
   "execution_count": 10,
   "metadata": {},
   "outputs": [
    {
     "name": "stdout",
     "output_type": "stream",
     "text": [
      "(20, 64, 1024) (64, 1024, 20) (20, 64, 2) (20, 64, 2) (20, 64, 4) torch.Size([20, 64, 3])\n"
     ]
    }
   ],
   "source": [
    "print(x.shape, y.shape, a.shape, a_gen.shape, mu_smooth.shape, alpha.shape)"
   ]
  },
  {
   "cell_type": "code",
   "execution_count": 20,
   "metadata": {},
   "outputs": [
    {
     "data": {
      "text/plain": [
       "tensor([[[0.2321, 0.4276, 0.3404],\n",
       "         [0.2321, 0.4276, 0.3404],\n",
       "         [0.2321, 0.4276, 0.3404],\n",
       "         ...,\n",
       "         [0.2321, 0.4276, 0.3404],\n",
       "         [0.2321, 0.4276, 0.3404],\n",
       "         [0.2321, 0.4276, 0.3404]],\n",
       "\n",
       "        [[0.1488, 0.3936, 0.4576],\n",
       "         [0.3469, 0.4027, 0.2504],\n",
       "         [0.1738, 0.3632, 0.4631],\n",
       "         ...,\n",
       "         [0.3547, 0.3965, 0.2489],\n",
       "         [0.1823, 0.3593, 0.4584],\n",
       "         [0.1649, 0.3749, 0.4602]],\n",
       "\n",
       "        [[0.1315, 0.2732, 0.5953],\n",
       "         [0.4782, 0.3434, 0.1784],\n",
       "         [0.1407, 0.2417, 0.6176],\n",
       "         ...,\n",
       "         [0.4627, 0.3672, 0.1700],\n",
       "         [0.1408, 0.2541, 0.6050],\n",
       "         [0.1345, 0.2474, 0.6181]],\n",
       "\n",
       "        ...,\n",
       "\n",
       "        [[0.0068, 0.6245, 0.3687],\n",
       "         [0.3270, 0.5301, 0.1429],\n",
       "         [0.6906, 0.2093, 0.1000],\n",
       "         ...,\n",
       "         [0.2736, 0.3988, 0.3276],\n",
       "         [0.4734, 0.4272, 0.0994],\n",
       "         [0.7378, 0.2129, 0.0493]],\n",
       "\n",
       "        [[0.0202, 0.4005, 0.5793],\n",
       "         [0.4120, 0.4743, 0.1137],\n",
       "         [0.6105, 0.2181, 0.1715],\n",
       "         ...,\n",
       "         [0.4017, 0.4326, 0.1657],\n",
       "         [0.5939, 0.3328, 0.0733],\n",
       "         [0.8442, 0.1200, 0.0358]],\n",
       "\n",
       "        [[0.0550, 0.1809, 0.7641],\n",
       "         [0.4498, 0.4517, 0.0985],\n",
       "         [0.3976, 0.2030, 0.3994],\n",
       "         ...,\n",
       "         [0.4464, 0.4305, 0.1230],\n",
       "         [0.6621, 0.2769, 0.0609],\n",
       "         [0.8713, 0.0911, 0.0376]]])"
      ]
     },
     "execution_count": 20,
     "metadata": {},
     "output_type": "execute_result"
    }
   ],
   "source": [
    "alpha"
   ]
  },
  {
   "cell_type": "code",
   "execution_count": 23,
   "metadata": {},
   "outputs": [
    {
     "data": {
      "image/png": "[encoded data removed]",
      "text/plain": [
       "<Figure size 432x288 with 1 Axes>"
      ]
     },
     "metadata": {
      "needs_background": "light"
     },
     "output_type": "display_data"
    }
   ],
   "source": [
    "for i in range(3):\n",
    "    plt.plot(alpha[:, 3, i])"
   ]
  },
  {
   "cell_type": "code",
   "execution_count": 20,
   "metadata": {
    "collapsed": true,
    "jupyter": {
     "outputs_hidden": true,
     "source_hidden": true
    },
    "tags": []
   },
   "outputs": [
    {
     "name": "stdout",
     "output_type": "stream",
     "text": [
      "None\n",
      "None\n",
      "None\n",
      "None\n",
      "None\n",
      "None\n",
      "None\n",
      "None\n",
      "None\n",
      "None\n",
      "None\n",
      "None\n",
      "None\n",
      "None\n",
      "None\n",
      "None\n",
      "None\n",
      "None\n",
      "None\n",
      "None\n",
      "None\n",
      "None\n",
      "None\n",
      "None\n",
      "None\n",
      "None\n",
      "None\n",
      "None\n",
      "None\n",
      "None\n",
      "None\n",
      "None\n",
      "None\n",
      "None\n"
     ]
    }
   ],
   "source": [
    "for pr in kvae.model.named_parameters():\n",
    "    print(pr[1].grad)"
   ]
  },
  {
   "cell_type": "code",
   "execution_count": 29,
   "metadata": {},
   "outputs": [],
   "source": [
    "p = test[1].detach().numpy()"
   ]
  },
  {
   "cell_type": "code",
   "execution_count": 31,
   "metadata": {},
   "outputs": [
    {
     "data": {
      "text/plain": [
       "[<matplotlib.lines.Line2D at 0x267945306a0>]"
      ]
     },
     "execution_count": 31,
     "metadata": {},
     "output_type": "execute_result"
    },
    {
     "data": {
      "image/png": "[encoded data removed]",
      "text/plain": [
       "<Figure size 432x288 with 1 Axes>"
      ]
     },
     "metadata": {
      "needs_background": "light"
     },
     "output_type": "display_data"
    }
   ],
   "source": [
    "plt.plot(p[:, 0], p[:, 1], 'r-')"
   ]
  },
  {
   "cell_type": "code",
   "execution_count": 55,
   "metadata": {},
   "outputs": [],
   "source": [
    "a = torch.tensor(a, requires_grad=False).detach()"
   ]
  },
  {
   "cell_type": "code",
   "execution_count": 56,
   "metadata": {},
   "outputs": [],
   "source": [
    "seq_len = a.shape[0]\n",
    "batch_size = a.shape[1]\n",
    "u_0 = torch.zeros(1, batch_size, kvae.model.u_dim).to(\"cpu\")\n",
    "u = torch.cat((u_0, a[:-1]), 0)\n",
    "K = kvae.model.K; A = kvae.model.A; B = kvae.model.B; C = kvae.model.C; R = kvae.model.R; Q = kvae.model.Q\n",
    "optimal_gain=False; alpha_sq=1"
   ]
  },
  {
   "cell_type": "code",
   "execution_count": 57,
   "metadata": {},
   "outputs": [],
   "source": [
    "kvae.model.mu = torch.zeros((batch_size, kvae.model.z_dim)).to(kvae.model.device) # (bs, z_dim), z_0\n",
    "kvae.model.Sigma = kvae.model.init_cov * torch.eye(kvae.model.z_dim).unsqueeze(0).repeat(batch_size, 1, 1).to(kvae.model.device) # (bs, z_dim, z_dim), Sigma_0\n",
    "mu_pred = torch.zeros((seq_len, batch_size, kvae.model.z_dim)).to(kvae.model.device) # (seq_len, bs, z_dim)\n",
    "mu_filter = torch.zeros((seq_len, batch_size, kvae.model.z_dim)).to(kvae.model.device) # (seq_len, bs, z_dim)\n",
    "mu_smooth = torch.zeros((seq_len, batch_size, kvae.model.z_dim)).to(kvae.model.device) # (seq_len, bs, z_dim)\n",
    "Sigma_pred = torch.zeros((seq_len, batch_size, kvae.model.z_dim, kvae.model.z_dim)).to(kvae.model.device) # (seq_len, bs, z_dim, z_dim)\n",
    "Sigma_filter = torch.zeros((seq_len, batch_size, kvae.model.z_dim, kvae.model.z_dim)).to(kvae.model.device) # (seq_len, bs, z_dim, z_dim)\n",
    "Sigma_smooth = torch.zeros((seq_len, batch_size, kvae.model.z_dim, kvae.model.z_dim)).to(kvae.model.device) # (seq_len, bs, z_dim, z_dim)"
   ]
  },
  {
   "cell_type": "code",
   "execution_count": 58,
   "metadata": {},
   "outputs": [],
   "source": [
    "# Calculate the mixture of A, B and C\n",
    "A_flatten = A.view(K, kvae.model.z_dim*kvae.model.z_dim) # (K, z_dim*z_dim) \n",
    "B_flatten = B.view(K, kvae.model.z_dim*kvae.model.u_dim) # (K, z_dim*u_dim) \n",
    "C_flatten = C.view(K, kvae.model.a_dim*kvae.model.z_dim) # (K, a_dim*z_dim) \n",
    "A_mix = alpha.matmul(A_flatten).view(seq_len, batch_size, kvae.model.z_dim, kvae.model.z_dim)\n",
    "B_mix = alpha.matmul(B_flatten).view(seq_len, batch_size, kvae.model.z_dim, kvae.model.u_dim)\n",
    "C_mix = alpha.matmul(C_flatten).view(seq_len, batch_size, kvae.model.a_dim, kvae.model.z_dim)"
   ]
  },
  {
   "cell_type": "code",
   "execution_count": 59,
   "metadata": {},
   "outputs": [
    {
     "data": {
      "text/plain": [
       "torch.Size([20, 7, 4, 4])"
      ]
     },
     "execution_count": 59,
     "metadata": {},
     "output_type": "execute_result"
    }
   ],
   "source": [
    "A_mix.shape"
   ]
  },
  {
   "cell_type": "code",
   "execution_count": 62,
   "metadata": {},
   "outputs": [],
   "source": [
    "# Forward filter\n",
    "for t in range(seq_len):\n",
    "\n",
    "    # Mixture of A, B and C\n",
    "    A_t = A_mix[t] # (bs, z_dim. z_dim)\n",
    "    B_t = B_mix[t] # (bs, z_dim, u_dim)\n",
    "    C_t = C_mix[t] # (bs, a_dim, z_dim)\n",
    "\n",
    "    if t == 0:\n",
    "        mu_t_pred = kvae.model.mu.unsqueeze(-1) # (bs, z_dim, 1)\n",
    "        Sigma_t_pred = kvae.model.Sigma\n",
    "    else:\n",
    "        u_t = u[t,:,:] # (bs, u_dim)\n",
    "        mu_t_pred = A_t.bmm(mu_t) + B_t.bmm(u_t.unsqueeze(-1)) # (bs, z_dim, 1), z_{t|t-1}\n",
    "        Sigma_t_pred = alpha_sq * A_t.bmm(Sigma_t).bmm(A_t.transpose(1,2)) + Q # (bs, z_dim, z_dim), Sigma_{t|t-1}\n",
    "        # alpha_sq (>=1) is fading memory control, which indicates how much you want to forgert past measurements, see more infos in 'FilterPy' library\n",
    "\n",
    "    # Residual\n",
    "    a_pred = C_t.bmm(mu_t_pred)  # (bs, a_dim, z_dim) x (bs, z_dim, 1)\n",
    "    res_t = a[t, :, :].unsqueeze(-1) - a_pred # (bs, a_dim, 1)\n",
    "\n",
    "    # Kalman gain\n",
    "    S_t = C_t.bmm(Sigma_t_pred).bmm(C_t.transpose(1,2)) + R # (bs, a_dim, a_dim)\n",
    "    S_t_inv = S_t.inverse()\n",
    "    K_t = Sigma_t_pred.bmm(C_t.transpose(1,2)).bmm(S_t_inv) # (bs, z_dim, a_dim)\n",
    "\n",
    "    # Update \n",
    "    mu_t = mu_t_pred + K_t.bmm(res_t) # (bs, z_dim, 1)\n",
    "    I_KC = kvae.model._I - K_t.bmm(C_t) # (bs, z_dim, z_dim)\n",
    "    if optimal_gain:\n",
    "        Sigma_t = I_KC.bmm(Sigma_t_pred) # (bs, z_dim, z_dim), only valid with optimal Kalman gain\n",
    "    else:\n",
    "        Sigma_t = I_KC.bmm(Sigma_t_pred).bmm(I_KC.transpose(1,2)) + K_t.matmul(R).matmul(K_t.transpose(1,2)) # (bs, z_dim, z_dim), general case\n",
    "    # Save cache\n",
    "    mu_pred[t] = mu_t_pred.view(batch_size, kvae.model.z_dim)\n",
    "    mu_filter[t] = mu_t.squeeze()\n",
    "    Sigma_pred[t] = Sigma_t_pred\n",
    "    Sigma_filter[t] = Sigma_t"
   ]
  },
  {
   "cell_type": "code",
   "execution_count": 63,
   "metadata": {},
   "outputs": [],
   "source": [
    "# Add the final state from filter to the smoother as initialization\n",
    "mu_smooth[-1] =  mu_filter[-1]\n",
    "Sigma_smooth[-1] = Sigma_filter[-1]"
   ]
  },
  {
   "cell_type": "code",
   "execution_count": 64,
   "metadata": {},
   "outputs": [],
   "source": [
    "# Backward smooth, reverse loop from pernultimate state\n",
    "for t in range(seq_len-2, -1, -1):\n",
    "\n",
    "    # Backward Kalman gain\n",
    "    J_t = Sigma_filter[t].bmm(A_mix[t+1].transpose(1,2)).bmm(Sigma_pred[t+1].inverse()) # (bs, z_dim, z_dim)\n",
    "\n",
    "    # Backward smoothing\n",
    "    dif_mu_tp1 = (mu_smooth[t+1] - mu_filter[t+1]).unsqueeze(-1) # (bs, z_dim, 1)\n",
    "    mu_smooth[t] = mu_filter[t] + J_t.matmul(dif_mu_tp1).view(batch_size, kvae.model.z_dim) # (bs, z_dim)\n",
    "    dif_Sigma_tp1 = Sigma_smooth[t+1] - Sigma_pred[t+1] # (bs, z_dim, z_dim)\n",
    "    Sigma_smooth[t] = Sigma_filter[t] + J_t.bmm(dif_Sigma_tp1).bmm(J_t.transpose(1,2)) # (bs, z_dim, z_dim)"
   ]
  },
  {
   "cell_type": "code",
   "execution_count": null,
   "metadata": {},
   "outputs": [],
   "source": [
    "# Generate a from smoothing z\n",
    "a_gen = C_mix.matmul(mu_smooth.unsqueeze(-1)).view(seq_len, batch_size, self.a_dim) # (seq_len, bs, a_dim)\n",
    "def debug(n, v):\n",
    "    print(n, v.shape, \"Nan:\", torch.isnan(v).any(),\"inf:\", torch.isinf(v).any(), v)\n",
    "if torch.isnan(Sigma_smooth).any():\n",
    "    #print(\"Sigma\", Sigma_smooth.shape, Sigma_smooth)\n",
    "    #print(\"latest j\", J_t)\n",
    "    #print(\"latest sigma_pred\", Sigma_pred)\n",
    "    #print(\"latest\")\n",
    "    #print(\"A_flatten\", A_flatten)\n",
    "    #print(\"a_init\", self.a_init)\n",
    "    #print(\"a_init_expand\", a_init_expand)\n",
    "    #print(\"a_tm1\", a_tm1)\n",
    "    #print(\"alpha\", alpha)\n",
    "    #debug(\"a\", a)\n",
    "    #debug(\"a_init\", self.a_init)\n",
    "    #debug(\"a_init_expand\", a_init_expand)\n",
    "    #debug(\"a_tm1\", a_tm1)\n",
    "    #debug(\"alpha\", alpha)\n",
    "    pass\n",
    "\n",
    "return a_gen, mu_smooth, Sigma_smooth, A_mix, B_mix, C_mix"
   ]
  },
  {
   "cell_type": "code",
   "execution_count": 11,
   "metadata": {},
   "outputs": [
    {
     "data": {
      "text/plain": [
       "[<matplotlib.lines.Line2D at 0x1bd041b0af0>]"
      ]
     },
     "execution_count": 11,
     "metadata": {},
     "output_type": "execute_result"
    },
    {
     "data": {
      "image/png": "[encoded data removed]",
      "text/plain": [
       "<Figure size 432x288 with 1 Axes>"
      ]
     },
     "metadata": {
      "needs_background": "light"
     },
     "output_type": "display_data"
    }
   ],
   "source": [
    "plt.plot(a_gen[:, 0, 0], a_gen[:, 0, 1], \"r-\")"
   ]
  },
  {
   "cell_type": "code",
   "execution_count": 12,
   "metadata": {},
   "outputs": [
    {
     "data": {
      "text/plain": [
       "[<matplotlib.lines.Line2D at 0x1bd04261b20>]"
      ]
     },
     "execution_count": 12,
     "metadata": {},
     "output_type": "execute_result"
    },
    {
     "data": {
      "image/png": "[encoded data removed]",
      "text/plain": [
       "<Figure size 432x288 with 1 Axes>"
      ]
     },
     "metadata": {
      "needs_background": "light"
     },
     "output_type": "display_data"
    }
   ],
   "source": [
    "plt.plot(a[:, 0, 0], a[:, 0, 1], \"r-\")"
   ]
  },
  {
   "cell_type": "code",
   "execution_count": 1,
   "metadata": {},
   "outputs": [],
   "source": [
    "import torch"
   ]
  },
  {
   "cell_type": "code",
   "execution_count": 4,
   "metadata": {},
   "outputs": [],
   "source": [
    "test = torch.load(\"results/model_at_2.pt\")"
   ]
  },
  {
   "cell_type": "code",
   "execution_count": 7,
   "metadata": {},
   "outputs": [
    {
     "data": {
      "text/plain": [
       "tensor([[[ 0.0226, -0.0165,  0.0201,  ...,  0.1372,  0.0254, -0.0083],\n",
       "         [ 0.0086, -0.0140, -0.0469,  ...,  0.0540, -0.0763, -0.0340],\n",
       "         [-0.0502,  0.0270, -0.0722,  ..., -0.0148, -0.0126,  0.0316],\n",
       "         ...,\n",
       "         [-0.0284, -0.0158,  0.0303,  ...,  0.0269,  0.0420, -0.0524],\n",
       "         [ 0.0361, -0.0289,  0.0586,  ..., -0.1141, -0.0663, -0.0138],\n",
       "         [ 0.0173, -0.0603,  0.0420,  ..., -0.0271,  0.0053, -0.0478]],\n",
       "\n",
       "        [[ 0.0264,  0.0941,  0.0219,  ..., -0.0542, -0.0285,  0.0581],\n",
       "         [ 0.0263, -0.0916, -0.0068,  ...,  0.0480, -0.0175,  0.0423],\n",
       "         [-0.0165, -0.0270,  0.0002,  ...,  0.0756, -0.0388, -0.0818],\n",
       "         ...,\n",
       "         [ 0.0392, -0.0314, -0.0731,  ..., -0.0082, -0.0745, -0.0060],\n",
       "         [-0.0409, -0.0194, -0.0407,  ...,  0.0507,  0.0205, -0.0193],\n",
       "         [ 0.0248, -0.0469, -0.0942,  ..., -0.0317,  0.0576, -0.0322]],\n",
       "\n",
       "        [[-0.0627,  0.0172,  0.0487,  ...,  0.0248, -0.1353,  0.0250],\n",
       "         [-0.0274, -0.0585,  0.0045,  ..., -0.0938, -0.0201,  0.0500],\n",
       "         [ 0.0196,  0.0098,  0.0383,  ...,  0.0732, -0.0923, -0.0819],\n",
       "         ...,\n",
       "         [-0.0292, -0.0780,  0.0096,  ..., -0.0187,  0.0068, -0.0451],\n",
       "         [-0.0363, -0.0250, -0.0658,  ..., -0.0232, -0.0010,  0.0298],\n",
       "         [ 0.0650, -0.0231,  0.0125,  ..., -0.0091,  0.0205,  0.0462]],\n",
       "\n",
       "        ...,\n",
       "\n",
       "        [[-0.0517, -0.0324,  0.0601,  ..., -0.0703,  0.0343,  0.0002],\n",
       "         [-0.0441,  0.0175,  0.0686,  ...,  0.0458,  0.0714, -0.0144],\n",
       "         [-0.0116,  0.0174,  0.0453,  ...,  0.0018,  0.0326,  0.0424],\n",
       "         ...,\n",
       "         [-0.0072, -0.0712,  0.0270,  ..., -0.0015,  0.0069, -0.0262],\n",
       "         [-0.0359,  0.0396,  0.0045,  ..., -0.0470, -0.0538,  0.0553],\n",
       "         [-0.1228, -0.0719, -0.0235,  ...,  0.0590,  0.0335, -0.0254]],\n",
       "\n",
       "        [[-0.0413,  0.0036, -0.0326,  ...,  0.0543,  0.0477,  0.0191],\n",
       "         [-0.0356,  0.0026,  0.0834,  ..., -0.0186, -0.0211, -0.0055],\n",
       "         [-0.0752, -0.0361,  0.0121,  ..., -0.0943, -0.0381,  0.0685],\n",
       "         ...,\n",
       "         [-0.0486,  0.0510,  0.0333,  ..., -0.0204,  0.0069,  0.0813],\n",
       "         [-0.0787, -0.0032,  0.0281,  ...,  0.1118, -0.0368,  0.0112],\n",
       "         [ 0.0088, -0.0906, -0.0449,  ..., -0.0079, -0.0709,  0.0432]],\n",
       "\n",
       "        [[-0.0152,  0.0079,  0.0199,  ...,  0.0242, -0.0538, -0.0230],\n",
       "         [ 0.0623, -0.0346, -0.0417,  ..., -0.0234,  0.0301,  0.0038],\n",
       "         [ 0.0270, -0.0567, -0.0535,  ..., -0.0236,  0.0263, -0.0345],\n",
       "         ...,\n",
       "         [ 0.0297, -0.0101, -0.0607,  ...,  0.0226,  0.0691,  0.0098],\n",
       "         [ 0.0822,  0.0187,  0.0266,  ..., -0.0207,  0.0134,  0.0168],\n",
       "         [ 0.0109,  0.0442,  0.0179,  ..., -0.0717, -0.1478, -0.0650]]])"
      ]
     },
     "execution_count": 7,
     "metadata": {},
     "output_type": "execute_result"
    }
   ],
   "source": [
    "test[\"C\"]"
   ]
  },
  {
   "cell_type": "code",
   "execution_count": null,
   "metadata": {},
   "outputs": [],
   "source": []
  }
 ],
 "metadata": {
  "interpreter": {
   "hash": "c7a650d791d0a1d035b66682f8967f04fed3045153a1ba3c3bfeefd2541b18a6"
  },
  "kernelspec": {
   "display_name": "Python 3.8.7 64-bit",
   "name": "python3"
  },
  "language_info": {
   "codemirror_mode": {
    "name": "ipython",
    "version": 3
   },
   "file_extension": ".py",
   "mimetype": "text/x-python",
   "name": "python",
   "nbconvert_exporter": "python",
   "pygments_lexer": "ipython3",
   "version": "3.8.7"
  }
 },
 "nbformat": 4,
 "nbformat_minor": 4
}
