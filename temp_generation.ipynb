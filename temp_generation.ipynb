{
 "cells": [
  {
   "cell_type": "code",
   "execution_count": 1,
   "metadata": {},
   "outputs": [],
   "source": [
    "import torch\n",
    "import numpy as np\n",
    "from kvae_model import KVAEModel\n",
    "from kvae import KVAE\n",
    "from auxiliary import load_bouncing_ball, export_vid, export_latent_space_vis\n",
    "import matplotlib\n",
    "matplotlib.use('TkAgg')\n",
    "import matplotlib.pyplot as plt\n",
    "%matplotlib inline"
   ]
  },
  {
   "cell_type": "code",
   "execution_count": 3,
   "metadata": {},
   "outputs": [],
   "source": [
    "batch_size = 64\n",
    "train_dataset, val_dataset =  load_bouncing_ball(\"nonlinear_ball_data\", \"circle\", singular=False)\n",
    "train_dataloader = torch.utils.data.DataLoader(train_dataset, batch_size=batch_size, shuffle = True, num_workers = 0)\n",
    "val_dataloader   = torch.utils.data.DataLoader(val_dataset,   batch_size=batch_size, shuffle = True, num_workers = 0)"
   ]
  },
  {
   "cell_type": "markdown",
   "metadata": {},
   "source": [
    "## Load pretrained model"
   ]
  },
  {
   "cell_type": "code",
   "execution_count": 4,
   "metadata": {},
   "outputs": [],
   "source": [
    "model = KVAEModel(x_dim = 32 * 32, \n",
    "            a_dim = 4,\n",
    "            z_dim = 4, \n",
    "            x_2d=True,\n",
    "            init_kf_mat = 0.05,\n",
    "            noise_transition = 0.08,\n",
    "            noise_emission = 0.03,\n",
    "            init_cov = 20,\n",
    "            K = 1,\n",
    "            dim_RNN_alpha = 50,\n",
    "            num_RNN_alpha = 2,\n",
    "            dropout_p = 0,\n",
    "            scale_reconstruction = 0.3,\n",
    "            device='cpu').to('cpu')\n",
    "model.build()\n",
    "\n",
    "kvae = KVAE(model=model,\n",
    "            lr = 3e-3,#3e-6,\n",
    "            lr_tot = 1e-3,#1e-6,\n",
    "            epochs = 20,\n",
    "            batch_size = batch_size,\n",
    "            early_stop_patience = 20,\n",
    "            save_frequency = 1,\n",
    "            only_vae_epochs = 5,\n",
    "            kf_update_epochs = 5,\n",
    "            save_dir = \"results\")"
   ]
  },
  {
   "cell_type": "code",
   "execution_count": 5,
   "metadata": {},
   "outputs": [
    {
     "data": {
      "text/plain": [
       "<All keys matched successfully>"
      ]
     },
     "execution_count": 5,
     "metadata": {},
     "output_type": "execute_result"
    }
   ],
   "source": [
    "kvae.model.load_state_dict(torch.load(\"results/t25_circle_IS_G_a4/model_at_93.pt\", map_location='cpu'))"
   ]
  },
  {
   "cell_type": "markdown",
   "metadata": {},
   "source": [
    "## Extract results from a training sample"
   ]
  },
  {
   "cell_type": "code",
   "execution_count": 19,
   "metadata": {},
   "outputs": [
    {
     "name": "stdout",
     "output_type": "stream",
     "text": [
      "torch.Size([64, 32, 32, 200]) (64, 32, 32, 200)\n"
     ]
    }
   ],
   "source": [
    "export_vid(kvae, train_dataloader, j=0, both=True, epoch=555)"
   ]
  },
  {
   "cell_type": "code",
   "execution_count": 31,
   "metadata": {},
   "outputs": [],
   "source": [
    "t = torch.Tensor(train_dataloader.dataset[0:0+64])\n",
    "kvae.model.eval()\n",
    "with torch.no_grad():\n",
    "    x, y, a, a_gen, mu_smooth = kvae.model.forward_debug(t, compute_loss=False)"
   ]
  },
  {
   "cell_type": "code",
   "execution_count": 32,
   "metadata": {},
   "outputs": [],
   "source": [
    "# mu_smooth in seq_len, batch_size, z_dim\n",
    "z_temp = mu_smooth[:, 0:1, :]\n",
    "z_temp = torch.tensor(z_temp).detach()\n",
    "seq_len, batch_size, _ = z_temp.shape\n",
    "z_temp = z_temp.view(batch_size, kvae.model.z_dim, seq_len)"
   ]
  },
  {
   "cell_type": "code",
   "execution_count": 33,
   "metadata": {},
   "outputs": [],
   "source": [
    "N = 40"
   ]
  },
  {
   "cell_type": "code",
   "execution_count": 34,
   "metadata": {},
   "outputs": [],
   "source": [
    "z_samples = torch.zeros((batch_size, kvae.model.z_dim, seq_len+N))\n",
    "y_samples = torch.zeros((batch_size, kvae.model.x_dim, kvae.model.x_dim, seq_len+N))\n",
    "a_samples = torch.zeros((batch_size, kvae.model.a_dim, seq_len+N))"
   ]
  },
  {
   "cell_type": "code",
   "execution_count": 42,
   "metadata": {},
   "outputs": [],
   "source": [
    "z = z_temp[:, :, -2:-1] #batch_size, z_dim, 1"
   ]
  },
  {
   "cell_type": "code",
   "execution_count": 43,
   "metadata": {},
   "outputs": [],
   "source": [
    "K = 1"
   ]
  },
  {
   "cell_type": "code",
   "execution_count": 44,
   "metadata": {},
   "outputs": [],
   "source": [
    "A_flatten = kvae.model.A.view(K, kvae.model.z_dim*kvae.model.z_dim) # (K, z_dim*z_dim) \n",
    "B_flatten = kvae.model.B.view(K, kvae.model.z_dim*kvae.model.u_dim) # (K, z_dim*u_dim) \n",
    "C_flatten = kvae.model.C.view(K, kvae.model.a_dim*kvae.model.z_dim) # (K, a_dim*z_dim) "
   ]
  },
  {
   "cell_type": "code",
   "execution_count": 45,
   "metadata": {},
   "outputs": [],
   "source": [
    "A_mix = A_flatten.view(batch_size, kvae.model.z_dim, kvae.model.z_dim)\n",
    "B_mix = B_flatten.view(batch_size, kvae.model.z_dim, kvae.model.u_dim)\n",
    "C_mix = C_flatten.view(batch_size, kvae.model.a_dim, kvae.model.z_dim)"
   ]
  },
  {
   "cell_type": "code",
   "execution_count": 46,
   "metadata": {},
   "outputs": [],
   "source": [
    "def z_to_y(model, z, C): #z in (batch_size, z_dim, seq_len)\n",
    "    model.eval()\n",
    "    _, _, seq_len = z.shape\n",
    "    a_gen = C.bmm(z)\n",
    "    with torch.no_grad():\n",
    "        y = model.decode(a_gen.view(seq_len, batch_size, kvae.model.a_dim)).permute(1,-1,0) #(batch_size, dim, seq_len)\n",
    "    return a_gen, y"
   ]
  },
  {
   "cell_type": "code",
   "execution_count": null,
   "metadata": {},
   "outputs": [],
   "source": [
    "z_samples[:, :, :seq_len] = z_temp\n",
    "a_gen, y = z_to_y(kvae.mode, z_temp, C_mix)\n",
    "a_samples[:, :, :seq_len] = a_gen\n",
    "y_samples[:, :, :seq_len] = y"
   ]
  },
  {
   "cell_type": "code",
   "execution_count": null,
   "metadata": {},
   "outputs": [],
   "source": [
    "# loop"
   ]
  },
  {
   "cell_type": "code",
   "execution_count": 47,
   "metadata": {},
   "outputs": [],
   "source": [
    "a_gen, y = z_to_y(kvae.model, z, C_mix)"
   ]
  },
  {
   "cell_type": "code",
   "execution_count": 49,
   "metadata": {},
   "outputs": [
    {
     "data": {
      "text/plain": [
       "torch.Size([1, 1024, 1])"
      ]
     },
     "execution_count": 49,
     "metadata": {},
     "output_type": "execute_result"
    }
   ],
   "source": [
    "y.shape"
   ]
  },
  {
   "cell_type": "code",
   "execution_count": null,
   "metadata": {},
   "outputs": [],
   "source": [
    "# Az -> z\n",
    "# Cz -> a_gen\n",
    "# y = decode(a_gen)"
   ]
  },
  {
   "cell_type": "code",
   "execution_count": 6,
   "metadata": {},
   "outputs": [
    {
     "ename": "RuntimeError",
     "evalue": "The size of tensor a (64) must match the size of tensor b (20) at non-singleton dimension 0",
     "output_type": "error",
     "traceback": [
      "\u001b[1;31m---------------------------------------------------------------------------\u001b[0m",
      "\u001b[1;31mRuntimeError\u001b[0m                              Traceback (most recent call last)",
      "\u001b[1;32m<ipython-input-6-e5b7a38ccbef>\u001b[0m in \u001b[0;36m<module>\u001b[1;34m\u001b[0m\n\u001b[1;32m----> 1\u001b[1;33m \u001b[0mkvae\u001b[0m\u001b[1;33m.\u001b[0m\u001b[0mgenerate\u001b[0m\u001b[1;33m(\u001b[0m\u001b[0mtorch\u001b[0m\u001b[1;33m.\u001b[0m\u001b[0mtensor\u001b[0m\u001b[1;33m(\u001b[0m\u001b[0mmu_smooth\u001b[0m\u001b[1;33m,\u001b[0m \u001b[0mrequires_grad\u001b[0m\u001b[1;33m=\u001b[0m\u001b[1;32mFalse\u001b[0m\u001b[1;33m)\u001b[0m\u001b[1;33m,\u001b[0m \u001b[0mn_steps\u001b[0m\u001b[1;33m=\u001b[0m\u001b[1;36m20\u001b[0m\u001b[1;33m)\u001b[0m\u001b[1;33m\u001b[0m\u001b[1;33m\u001b[0m\u001b[0m\n\u001b[0m",
      "\u001b[1;32mc:\\Users\\andre\\Desktop\\Repos\\VAEs\\kvae.py\u001b[0m in \u001b[0;36mgenerate\u001b[1;34m(self, z, n_steps)\u001b[0m\n\u001b[0;32m    265\u001b[0m             \u001b[0mC_mix\u001b[0m \u001b[1;33m=\u001b[0m \u001b[0malpha\u001b[0m\u001b[1;33m.\u001b[0m\u001b[0mmatmul\u001b[0m\u001b[1;33m(\u001b[0m\u001b[0mC_flatten\u001b[0m\u001b[1;33m)\u001b[0m\u001b[1;33m.\u001b[0m\u001b[0mview\u001b[0m\u001b[1;33m(\u001b[0m\u001b[1;33m-\u001b[0m\u001b[1;36m1\u001b[0m\u001b[1;33m,\u001b[0m \u001b[0mself\u001b[0m\u001b[1;33m.\u001b[0m\u001b[0mmodel\u001b[0m\u001b[1;33m.\u001b[0m\u001b[0ma_dim\u001b[0m\u001b[1;33m,\u001b[0m \u001b[0mself\u001b[0m\u001b[1;33m.\u001b[0m\u001b[0mmodel\u001b[0m\u001b[1;33m.\u001b[0m\u001b[0mz_dim\u001b[0m\u001b[1;33m)\u001b[0m\u001b[1;33m\u001b[0m\u001b[1;33m\u001b[0m\u001b[0m\n\u001b[0;32m    266\u001b[0m \u001b[1;33m\u001b[0m\u001b[0m\n\u001b[1;32m--> 267\u001b[1;33m             \u001b[0ma_gen\u001b[0m \u001b[1;33m=\u001b[0m \u001b[0mC_mix\u001b[0m\u001b[1;33m.\u001b[0m\u001b[0mmatmul\u001b[0m\u001b[1;33m(\u001b[0m\u001b[0mz\u001b[0m\u001b[1;33m)\u001b[0m\u001b[1;33m\u001b[0m\u001b[1;33m\u001b[0m\u001b[0m\n\u001b[0m\u001b[0;32m    268\u001b[0m             \u001b[1;31m#print(a_gen.shape, C_mix.shape, z.shape)\u001b[0m\u001b[1;33m\u001b[0m\u001b[1;33m\u001b[0m\u001b[1;33m\u001b[0m\u001b[0m\n\u001b[0;32m    269\u001b[0m             \u001b[1;32mwith\u001b[0m \u001b[0mtorch\u001b[0m\u001b[1;33m.\u001b[0m\u001b[0mno_grad\u001b[0m\u001b[1;33m(\u001b[0m\u001b[1;33m)\u001b[0m\u001b[1;33m:\u001b[0m\u001b[1;33m\u001b[0m\u001b[1;33m\u001b[0m\u001b[0m\n",
      "\u001b[1;31mRuntimeError\u001b[0m: The size of tensor a (64) must match the size of tensor b (20) at non-singleton dimension 0"
     ]
    }
   ],
   "source": [
    "# TODO: make this work!!\n",
    "kvae.generate(torch.tensor(mu_smooth, requires_grad=False), n_steps=20)"
   ]
  },
  {
   "cell_type": "code",
   "execution_count": null,
   "metadata": {},
   "outputs": [],
   "source": []
  }
 ],
 "metadata": {
  "interpreter": {
   "hash": "c7a650d791d0a1d035b66682f8967f04fed3045153a1ba3c3bfeefd2541b18a6"
  },
  "kernelspec": {
   "display_name": "Python 3.8.7 64-bit",
   "name": "python3"
  },
  "language_info": {
   "codemirror_mode": {
    "name": "ipython",
    "version": 3
   },
   "file_extension": ".py",
   "mimetype": "text/x-python",
   "name": "python",
   "nbconvert_exporter": "python",
   "pygments_lexer": "ipython3",
   "version": "3.8.7"
  }
 },
 "nbformat": 4,
 "nbformat_minor": 4
}
