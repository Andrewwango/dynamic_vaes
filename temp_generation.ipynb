{
 "cells": [
  {
   "cell_type": "code",
   "execution_count": 1,
   "metadata": {},
   "outputs": [],
   "source": [
    "import torch\n",
    "import numpy as np\n",
    "from kvae_model import KVAEModel\n",
    "from kvae import KVAE\n",
    "from auxiliary import load_bouncing_ball, export_vid, export_latent_space_vis, save_frames\n",
    "import matplotlib\n",
    "matplotlib.use('TkAgg')\n",
    "import matplotlib.pyplot as plt\n",
    "%matplotlib inline"
   ]
  },
  {
   "cell_type": "code",
   "execution_count": 2,
   "metadata": {},
   "outputs": [],
   "source": [
    "batch_size = 64\n",
    "train_dataset, val_dataset =  load_bouncing_ball(\"nonlinear_ball_data\", \"circle\", singular=False)\n",
    "train_dataloader = torch.utils.data.DataLoader(train_dataset, batch_size=batch_size, shuffle = True, num_workers = 0)\n",
    "val_dataloader   = torch.utils.data.DataLoader(val_dataset,   batch_size=batch_size, shuffle = True, num_workers = 0)"
   ]
  },
  {
   "cell_type": "markdown",
   "metadata": {},
   "source": [
    "## Load pretrained model"
   ]
  },
  {
   "cell_type": "code",
   "execution_count": 3,
   "metadata": {},
   "outputs": [],
   "source": [
    "model = KVAEModel(x_dim = 32 * 32, \n",
    "            a_dim = 4,\n",
    "            z_dim = 4, \n",
    "            x_2d=True,\n",
    "            init_kf_mat = 0.05,\n",
    "            noise_transition = 0.08,\n",
    "            noise_emission = 0.03,\n",
    "            init_cov = 20,\n",
    "            K = 1,\n",
    "            dim_RNN_alpha = 50,\n",
    "            num_RNN_alpha = 2,\n",
    "            dropout_p = 0,\n",
    "            scale_reconstruction = 0.3,\n",
    "            device='cpu').to('cpu')\n",
    "model.build()\n",
    "\n",
    "kvae = KVAE(model=model,\n",
    "            lr = 3e-3,#3e-6,\n",
    "            lr_tot = 1e-3,#1e-6,\n",
    "            epochs = 20,\n",
    "            batch_size = batch_size,\n",
    "            early_stop_patience = 20,\n",
    "            save_frequency = 1,\n",
    "            only_vae_epochs = 5,\n",
    "            kf_update_epochs = 5,\n",
    "            save_dir = \"results\")"
   ]
  },
  {
   "cell_type": "code",
   "execution_count": 4,
   "metadata": {},
   "outputs": [
    {
     "data": {
      "text/plain": [
       "<All keys matched successfully>"
      ]
     },
     "execution_count": 4,
     "metadata": {},
     "output_type": "execute_result"
    }
   ],
   "source": [
    "kvae.model.load_state_dict(torch.load(\"results/t25_circle_IS_G_a4/model_at_85.pt\", map_location='cpu'))"
   ]
  },
  {
   "cell_type": "markdown",
   "metadata": {},
   "source": [
    "## Extract results from a training sample"
   ]
  },
  {
   "cell_type": "code",
   "execution_count": 5,
   "metadata": {},
   "outputs": [
    {
     "name": "stdout",
     "output_type": "stream",
     "text": [
      "torch.Size([64, 32, 32, 40]) (64, 32, 32, 40)\n"
     ]
    }
   ],
   "source": [
    "export_vid(kvae, train_dataloader, j=0, both=True, epoch=555)"
   ]
  },
  {
   "cell_type": "code",
   "execution_count": 6,
   "metadata": {},
   "outputs": [],
   "source": [
    "t = torch.Tensor(train_dataloader.dataset[0:0+64])\n",
    "kvae.model.eval()\n",
    "with torch.no_grad():\n",
    "    x, y_forward, a, a_gen, mu_smooth = kvae.model.forward_debug(t, compute_loss=False)"
   ]
  },
  {
   "cell_type": "code",
   "execution_count": 6,
   "metadata": {},
   "outputs": [],
   "source": [
    "z_temp = np.array([[[0.0,0.0,0.0,0.0]]])"
   ]
  },
  {
   "cell_type": "code",
   "execution_count": 7,
   "metadata": {},
   "outputs": [],
   "source": [
    "# mu_smooth in seq_len, batch_size, z_dim\n",
    "z_temp = mu_smooth[:, 0:3, :]"
   ]
  },
  {
   "cell_type": "code",
   "execution_count": 8,
   "metadata": {},
   "outputs": [
    {
     "data": {
      "text/plain": [
       "array([ -3.7295022,  -2.42     , -21.364344 , -11.816754 ], dtype=float32)"
      ]
     },
     "execution_count": 8,
     "metadata": {},
     "output_type": "execute_result"
    }
   ],
   "source": [
    "z_temp[0, 0, :]"
   ]
  },
  {
   "cell_type": "code",
   "execution_count": 8,
   "metadata": {},
   "outputs": [],
   "source": [
    "z_temp = torch.tensor(z_temp).detach()\n",
    "seq_len, batch_size, _ = z_temp.shape\n",
    "z_temp = z_temp.permute(1,-1,0)"
   ]
  },
  {
   "cell_type": "code",
   "execution_count": 9,
   "metadata": {},
   "outputs": [],
   "source": [
    "N = 200"
   ]
  },
  {
   "cell_type": "code",
   "execution_count": 10,
   "metadata": {},
   "outputs": [],
   "source": [
    "z_samples = torch.zeros((batch_size, kvae.model.z_dim, seq_len+N))\n",
    "y_samples = torch.zeros((batch_size, kvae.model.x_dim, seq_len+N))\n",
    "a_samples = torch.zeros((batch_size, kvae.model.a_dim, seq_len+N))"
   ]
  },
  {
   "cell_type": "code",
   "execution_count": 11,
   "metadata": {},
   "outputs": [],
   "source": [
    "z = z_temp[:, :, -2:-1] #batch_size, z_dim, 1"
   ]
  },
  {
   "cell_type": "code",
   "execution_count": 12,
   "metadata": {},
   "outputs": [],
   "source": [
    "K = 1"
   ]
  },
  {
   "cell_type": "code",
   "execution_count": 13,
   "metadata": {},
   "outputs": [],
   "source": [
    "A_flatten = kvae.model.A.view(K, kvae.model.z_dim*kvae.model.z_dim) # (K, z_dim*z_dim) \n",
    "B_flatten = kvae.model.B.view(K, kvae.model.z_dim*kvae.model.u_dim) # (K, z_dim*u_dim) \n",
    "C_flatten = kvae.model.C.view(K, kvae.model.a_dim*kvae.model.z_dim) # (K, a_dim*z_dim) "
   ]
  },
  {
   "cell_type": "code",
   "execution_count": 14,
   "metadata": {},
   "outputs": [],
   "source": [
    "A_mix = A_flatten.view(1, kvae.model.z_dim, kvae.model.z_dim)\n",
    "B_mix = B_flatten.view(1, kvae.model.z_dim, kvae.model.u_dim)\n",
    "C_mix = C_flatten.view(1, kvae.model.a_dim, kvae.model.z_dim)\n",
    "\n",
    "A_mix = A_mix.repeat((batch_size, 1, 1))\n",
    "B_mix = B_mix.repeat((batch_size, 1, 1))\n",
    "C_mix = C_mix.repeat((batch_size, 1, 1))"
   ]
  },
  {
   "cell_type": "code",
   "execution_count": 15,
   "metadata": {},
   "outputs": [],
   "source": [
    "def z_to_y(model, z, C): #z in (batch_size, z_dim, seq_len)\n",
    "    model.eval()\n",
    "    _, _, seq_len = z.shape\n",
    "    #print(C.shape, z.shape)\n",
    "\n",
    "    a_gen = C.bmm(z)\n",
    "    a_gen = a_gen.permute(-1, 0, 1)\n",
    "    #print(a_gen.shape)\n",
    "    with torch.no_grad():\n",
    "        y = model.decode(a_gen).permute(1,-1,0) #(batch_size, dim, seq_len)\n",
    "    return a_gen.permute(1,-1,0), y"
   ]
  },
  {
   "cell_type": "code",
   "execution_count": 16,
   "metadata": {},
   "outputs": [],
   "source": [
    "z_samples[:, :, :seq_len] = z_temp\n",
    "a_gen, y = z_to_y(kvae.model, z_temp, C_mix)\n",
    "a_samples[:, :, :seq_len] = a_gen\n",
    "y_samples[:, :, :seq_len] = y"
   ]
  },
  {
   "cell_type": "code",
   "execution_count": 17,
   "metadata": {},
   "outputs": [
    {
     "data": {
      "text/plain": [
       "torch.Size([3, 4, 40])"
      ]
     },
     "execution_count": 17,
     "metadata": {},
     "output_type": "execute_result"
    }
   ],
   "source": [
    "z_samples[:, :, :seq_len].shape"
   ]
  },
  {
   "cell_type": "code",
   "execution_count": 18,
   "metadata": {},
   "outputs": [],
   "source": [
    "for i in range(seq_len, seq_len+N):\n",
    "    a_gen, y = z_to_y(kvae.model, z, C_mix)\n",
    "    z = A_mix.bmm(z)\n",
    "    \n",
    "    z_samples[:, :, i:i+1] = z\n",
    "    a_samples[:, :, i:i+1] = a_gen\n",
    "    y_samples[:, :, i:i+1] = y"
   ]
  },
  {
   "cell_type": "code",
   "execution_count": 19,
   "metadata": {},
   "outputs": [],
   "source": [
    "y_samples = y_samples.view(batch_size, 32, 32, seq_len+N)"
   ]
  },
  {
   "cell_type": "code",
   "execution_count": 20,
   "metadata": {},
   "outputs": [],
   "source": [
    "save_frames(y_samples)"
   ]
  },
  {
   "cell_type": "code",
   "execution_count": null,
   "metadata": {},
   "outputs": [],
   "source": []
  },
  {
   "cell_type": "code",
   "execution_count": null,
   "metadata": {},
   "outputs": [],
   "source": []
  },
  {
   "cell_type": "code",
   "execution_count": null,
   "metadata": {},
   "outputs": [],
   "source": []
  }
 ],
 "metadata": {
  "interpreter": {
   "hash": "c7a650d791d0a1d035b66682f8967f04fed3045153a1ba3c3bfeefd2541b18a6"
  },
  "kernelspec": {
   "display_name": "Python 3.8.7 64-bit",
   "name": "python3"
  },
  "language_info": {
   "codemirror_mode": {
    "name": "ipython",
    "version": 3
   },
   "file_extension": ".py",
   "mimetype": "text/x-python",
   "name": "python",
   "nbconvert_exporter": "python",
   "pygments_lexer": "ipython3",
   "version": "3.8.7"
  }
 },
 "nbformat": 4,
 "nbformat_minor": 4
}
