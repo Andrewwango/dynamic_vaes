{
 "cells": [
  {
   "cell_type": "code",
   "execution_count": 8,
   "metadata": {},
   "outputs": [],
   "source": [
    "import numpy as np\n",
    "from tqdm.notebook import tqdm\n",
    "from PIL import Image"
   ]
  },
  {
   "cell_type": "code",
   "execution_count": null,
   "metadata": {
    "lines_to_next_cell": 1
   },
   "outputs": [],
   "source": [
    "%config InlineBackend.figure_format = 'retina'"
   ]
  },
  {
   "cell_type": "markdown",
   "metadata": {},
   "source": [
    "The reaction-diffusion system described here involves two generic chemical species U and V, whose concentration at a given point in space is referred to by variables u and v. As the term implies, they react with each other, and they diffuse through the medium. Therefore the concentration of U and V at any given location changes with time and can differ from that at other locations.\n",
    "\n",
    "The overall behavior of the system is described by the following formula, two equations which describe three sources of increase and decrease for each of the two chemicals:\n",
    "\n",
    "\n",
    "$$\n",
    "\\begin{array}{l}\n",
    "\\displaystyle \\frac{\\partial u}{\\partial t} = D_u \\Delta u - uv^2 + F(1-u) \\\\\n",
    "\\displaystyle \\frac{\\partial v}{\\partial t} = D_v \\Delta v + uv^2 - (F+k)v\n",
    "\\end{array}\n",
    "$$\n",
    "\n",
    "The laplacian is computed with the following numerical scheme\n",
    "\n",
    "$$\n",
    "\\Delta u_{i,j} \\approx u_{i,j-1} + u_{i-1,j} -4u_{i,j} + u_{i+1, j} + u_{i, j+1}\n",
    "$$\n",
    "\n",
    "The classic Euler scheme is used to integrate the time derivative."
   ]
  },
  {
   "cell_type": "markdown",
   "metadata": {},
   "source": [
    "## Initialization\n",
    "\n",
    "$u$ is $1$ everywhere et $v$ is $0$ in the domain except in a square zone where $v = 0.25$ and $ u = 0.5$. This square located in the center of the domain is  $[0, 1]\\times[0,1]$ with a size of $0.2$.\n"
   ]
  },
  {
   "cell_type": "code",
   "execution_count": 27,
   "metadata": {},
   "outputs": [],
   "source": [
    "class GrayScottVideoGenerator:\n",
    "    def __init__(self, frame_size=300, F=0.0545, k=0.062, Du=0.1, Dv=0.05):\n",
    "        self.frame_size = frame_size\n",
    "        self.F = F\n",
    "        self.k = k\n",
    "        self.Du = Du\n",
    "        self.Dv = Dv\n",
    "        \n",
    "    def initialise(self):\n",
    "        n = self.frame_size\n",
    "        u = np.ones((n+2,n+2))\n",
    "        v = np.zeros((n+2,n+2))\n",
    "\n",
    "        x, y = np.meshgrid(np.linspace(0, 1, n+2), np.linspace(0, 1, n+2))\n",
    "\n",
    "        mask = (0.4<x) & (x<0.6) & (0.4<y) & (y<0.6)\n",
    "\n",
    "        u[mask] = 0.50\n",
    "        v[mask] = 0.25\n",
    "\n",
    "        return u, v\n",
    "    \n",
    "    def set_boundary_conditions(self, x):\n",
    "        x[0 , :] = x[-2, :]\n",
    "        x[-1, :] = x[1 , :]\n",
    "        x[: , 0] = x[: ,-2]\n",
    "        x[: ,-1] = x[: , 1]\n",
    "        return x\n",
    "\n",
    "    def Laplacian(self, x):\n",
    "        \"\"\"\n",
    "        second order finite differences\n",
    "        \"\"\"\n",
    "        return (                  x[ :-2, 1:-1] +\n",
    "                 x[1:-1, :-2] - 4*x[1:-1, 1:-1] + x[1:-1, 2:] +\n",
    "                              +   x[2:  , 1:-1] )\n",
    "    \n",
    "    def step(self, u, v):\n",
    "        Lu = self.Laplacian(u)\n",
    "        Lv = self.Laplacian(v)\n",
    "        \n",
    "        U, V = u[1:-1,1:-1], v[1:-1,1:-1]\n",
    "\n",
    "        UVV = U*V*V\n",
    "        U += self.Du*Lu - UVV + self.F*(1 - U)\n",
    "        V += self.Dv*Lv + UVV - (self.F + self.k)*V\n",
    "\n",
    "        u = self.set_boundary_conditions(u)\n",
    "        v = self.set_boundary_conditions(v)\n",
    "        \n",
    "        return u,v\n",
    "    \n",
    "    def run(self, seq_len=500, save_freq=40):\n",
    "        u,v = self.initialise()\n",
    "        \n",
    "        frames = np.zeros((seq_len, *(u.shape)), dtype=np.uint8)\n",
    "        for i in tqdm(range(save_freq*seq_len)):\n",
    "            u,v = self.step(u,v)\n",
    "            if not i % save_freq:\n",
    "                frame = np.uint8(255*(v-v.min()) / (v.max()-v.min()))\n",
    "                frames[int(i/save_freq)] = frame\n",
    "                \n",
    "        return frames\n",
    "        "
   ]
  },
  {
   "cell_type": "code",
   "execution_count": 31,
   "metadata": {},
   "outputs": [],
   "source": [
    "g = GrayScottVideoGenerator(frame_size=30)"
   ]
  },
  {
   "cell_type": "code",
   "execution_count": 34,
   "metadata": {},
   "outputs": [
    {
     "data": {
      "application/vnd.jupyter.widget-view+json": {
       "model_id": "7928842be8184c40a34f91d706ce6e4f",
       "version_major": 2,
       "version_minor": 0
      },
      "text/plain": [
       "  0%|          | 0/8000 [00:00<?, ?it/s]"
      ]
     },
     "metadata": {},
     "output_type": "display_data"
    }
   ],
   "source": [
    "frames = g.run(seq_len=40, save_freq=200)"
   ]
  },
  {
   "cell_type": "code",
   "execution_count": 17,
   "metadata": {
    "collapsed": true,
    "jupyter": {
     "outputs_hidden": true,
     "source_hidden": true
    },
    "tags": []
   },
   "outputs": [
    {
     "data": {
      "application/vnd.jupyter.widget-view+json": {
       "model_id": "1eb3291bb2e1452c834601bcf515689f",
       "version_major": 2,
       "version_minor": 0
      },
      "text/plain": [
       "interactive(children=(IntSlider(value=0, description='iframe', max=199), Output()), _dom_classes=('widget-inte…"
      ]
     },
     "metadata": {},
     "output_type": "display_data"
    },
    {
     "data": {
      "text/plain": [
       "<function __main__.display_sequence(iframe)>"
      ]
     },
     "execution_count": 17,
     "metadata": {},
     "output_type": "execute_result"
    }
   ],
   "source": [
    "from ipywidgets import interact, IntSlider\n",
    "\n",
    "def display_sequence(iframe):\n",
    "    \n",
    "    return Image.fromarray(frames[iframe])\n",
    "    \n",
    "interact(display_sequence, \n",
    "         iframe=IntSlider(min=0,\n",
    "                          max=len(frames)-1,\n",
    "                          step=1,\n",
    "                          value=0, \n",
    "                          continuous_update=True))"
   ]
  },
  {
   "cell_type": "code",
   "execution_count": 35,
   "metadata": {},
   "outputs": [],
   "source": [
    "import imageio\n",
    "#frames_scaled = [np.uint8(255 * frame) for frame in frames]\n",
    "imageio.mimsave('movie.gif', frames, format='gif', fps=60)"
   ]
  },
  {
   "cell_type": "markdown",
   "metadata": {},
   "source": [
    "![grayscott](movie.gif \"grayscott\")"
   ]
  },
  {
   "cell_type": "code",
   "execution_count": null,
   "metadata": {},
   "outputs": [],
   "source": []
  }
 ],
 "metadata": {
  "kernelspec": {
   "display_name": "Python 3",
   "language": "python",
   "name": "python3"
  },
  "language_info": {
   "codemirror_mode": {
    "name": "ipython",
    "version": 3
   },
   "file_extension": ".py",
   "mimetype": "text/x-python",
   "name": "python",
   "nbconvert_exporter": "python",
   "pygments_lexer": "ipython3",
   "version": "3.8.7"
  }
 },
 "nbformat": 4,
 "nbformat_minor": 4
}
