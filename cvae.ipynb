{
 "cells": [
  {
   "cell_type": "code",
   "execution_count": 1,
   "id": "alone-threshold",
   "metadata": {},
   "outputs": [],
   "source": [
    "import tensorflow as tf\n",
    "import numpy as np\n",
    "from tensorflow import keras\n",
    "import matplotlib.pyplot as plt\n",
    "import time\n",
    "from tqdm import tqdm"
   ]
  },
  {
   "cell_type": "code",
   "execution_count": 2,
   "id": "brief-saver",
   "metadata": {},
   "outputs": [],
   "source": [
    "mnist = keras.datasets.mnist\n",
    "(train_images, train_labels), (test_images, test_labels) = mnist.load_data()"
   ]
  },
  {
   "cell_type": "code",
   "execution_count": 3,
   "id": "brutal-color",
   "metadata": {},
   "outputs": [],
   "source": [
    "def preprocess(images):\n",
    "    images = images.reshape((images.shape[0], 28, 28, 1)) / 255\n",
    "    return np.where(images>0.5, 1.0, 0.0).astype(\"float32\")\n",
    "train_images = preprocess(train_images)\n",
    "test_images = preprocess(test_images)"
   ]
  },
  {
   "cell_type": "code",
   "execution_count": 4,
   "id": "assured-median",
   "metadata": {},
   "outputs": [],
   "source": [
    "batch_size = 32\n",
    "train_dataset = (tf.data.Dataset.from_tensor_slices(train_images).shuffle(train_images.shape[0]).batch(batch_size))\n",
    "test_dataset = (tf.data.Dataset.from_tensor_slices(test_images).shuffle(test_images.shape[0]).batch(batch_size))"
   ]
  },
  {
   "cell_type": "code",
   "execution_count": 5,
   "id": "compressed-round",
   "metadata": {
    "tags": []
   },
   "outputs": [],
   "source": [
    "class CVAE(keras.Model):\n",
    "    def __init__(self, n_z):\n",
    "        super(CVAE, self).__init__()\n",
    "        self.n_z = n_z\n",
    "        self.encoder = keras.Sequential(\n",
    "        [\n",
    "            keras.layers.InputLayer(input_shape=(28,28,1)),\n",
    "            keras.layers.Conv2D(filters=32,\n",
    "                               kernel_size=3,\n",
    "                               strides=(2,2),\n",
    "                               activation=\"relu\"),\n",
    "            keras.layers.Conv2D(filters=64,\n",
    "                               kernel_size=3,\n",
    "                               strides=(2,2),\n",
    "                               activation='relu'),\n",
    "            keras.layers.Flatten(),\n",
    "            keras.layers.Dense(n_z + n_z)\n",
    "        ])\n",
    "        self.decoder = keras.Sequential(\n",
    "        [\n",
    "            keras.layers.InputLayer(input_shape=(n_z,)),\n",
    "            keras.layers.Dense(units=7*7*32, activation=tf.nn.relu),\n",
    "            keras.layers.Reshape(target_shape=(7,7,32)),\n",
    "            keras.layers.Conv2DTranspose(filters=64,\n",
    "                                        kernel_size=3,\n",
    "                                        strides=2,\n",
    "                                        padding='same',\n",
    "                                        activation='relu'),\n",
    "            keras.layers.Conv2DTranspose(filters=32,\n",
    "                                        kernel_size=3,\n",
    "                                        strides=2,\n",
    "                                        padding='same',\n",
    "                                        activation='relu'),\n",
    "            keras.layers.Conv2DTranspose(filters=1,\n",
    "                                        kernel_size=3,\n",
    "                                        strides=1,\n",
    "                                        padding='same')\n",
    "        ])\n",
    "        \n",
    "    def encode(self, x):\n",
    "        encoder_out = self.encoder(x)\n",
    "        mean, logvar = tf.split(encoder_out, num_or_size_splits=2, axis=1)\n",
    "        return mean, logvar\n",
    "\n",
    "    def decode(self, z, apply_sigmoid=False):\n",
    "        logits = self.decoder(z)\n",
    "        if apply_sigmoid:\n",
    "            return tf.sigmoid(logits) #probs\n",
    "        return logits\n",
    "\n",
    "#    @tf.function\n",
    "    def decode_with_sigmoid(self, z):\n",
    "        return self.decode(z, apply_sigmoid=True)\n",
    "        \n",
    "    def reparameterize(self, mean, logvar):\n",
    "        eps = tf.random.normal(shape=mean.shape)\n",
    "        return eps * tf.exp(logvar * 0.5) + mean"
   ]
  },
  {
   "cell_type": "code",
   "execution_count": 6,
   "id": "adjacent-senegal",
   "metadata": {},
   "outputs": [],
   "source": [
    "def log_normal_pdf(a, mean, logvar, raxis=1):\n",
    "    log2pi = tf.math.log(2.0 * np.pi)\n",
    "    return tf.reduce_sum(-0.5 * ((a-mean)**2.0 * tf.exp(-logvar) + logvar + log2pi),\n",
    "                        axis=raxis)"
   ]
  },
  {
   "cell_type": "code",
   "execution_count": 7,
   "id": "beneficial-craft",
   "metadata": {},
   "outputs": [],
   "source": [
    "def compute_loss(model, x):\n",
    "    #propogate\n",
    "    mean, logvar = model.encode(x)\n",
    "    z = model.reparameterize(mean, logvar)\n",
    "    x_logit = model.decode(z)\n",
    "    cross_ent = tf.nn.sigmoid_cross_entropy_with_logits(logits=x_logit,\n",
    "                                                       labels=x)\n",
    "    logpx_z = -tf.reduce_sum(cross_ent, axis=[1,2,3])\n",
    "    logpz = log_normal_pdf(z, 0., 0.) #prior\n",
    "    logqz_x = log_normal_pdf(z, mean, logvar) #posterior\n",
    "    \n",
    "    return -tf.reduce_mean(logpx_z + logpz - logqz_x)"
   ]
  },
  {
   "cell_type": "code",
   "execution_count": 8,
   "id": "distinct-birth",
   "metadata": {},
   "outputs": [],
   "source": [
    "optimizer = keras.optimizers.Adam(1e-4)"
   ]
  },
  {
   "cell_type": "code",
   "execution_count": 9,
   "id": "institutional-counter",
   "metadata": {},
   "outputs": [],
   "source": [
    "@tf.function\n",
    "def train_step(model, x, optimizer):\n",
    "    #Compute loss\n",
    "    with tf.GradientTape() as tape:\n",
    "        loss = compute_loss(model, x)\n",
    "    \n",
    "    #Update params using gradient\n",
    "    gradients = tape.gradient(loss, model.trainable_variables)\n",
    "    optimizer.apply_gradients(zip(gradients, model.trainable_variables))"
   ]
  },
  {
   "cell_type": "code",
   "execution_count": 10,
   "id": "swedish-quebec",
   "metadata": {},
   "outputs": [],
   "source": [
    "def image_comparison(model, epoch, x_test):\n",
    "    mean, logvar = model.encode(x_test)\n",
    "    z = model.reparameterize(mean, logvar)\n",
    "    #print(z)\n",
    "    x_pred = model.decode_with_sigmoid(z)\n",
    "    #print(x_pred)\n",
    "    fig = plt.figure(figsize=(5,2))\n",
    "    for i in range(x_test.shape[0]):\n",
    "        plt.subplot(5,2, i*2+1)\n",
    "        plt.imshow(x_test[i,:,:,0], cmap='gray')\n",
    "        plt.axis(\"off\")\n",
    "        plt.subplot(5,2, i*2+2)\n",
    "        plt.imshow(x_pred[i,:,:,0], cmap='gray')\n",
    "        plt.axis(\"off\")\n",
    "    plt.savefig(f'image_at_epoch{epoch}.png')\n",
    "    plt.show()"
   ]
  },
  {
   "cell_type": "code",
   "execution_count": 11,
   "id": "raised-liabilities",
   "metadata": {},
   "outputs": [],
   "source": [
    "epochs = 3\n",
    "n_z = 2"
   ]
  },
  {
   "cell_type": "code",
   "execution_count": 13,
   "id": "static-uruguay",
   "metadata": {},
   "outputs": [],
   "source": [
    "for test_batch in test_dataset.take(1):\n",
    "    x_test = test_batch[0:5,:,:,:]"
   ]
  },
  {
   "cell_type": "code",
   "execution_count": 15,
   "id": "particular-sydney",
   "metadata": {},
   "outputs": [],
   "source": [
    "model = CVAE(n_z)"
   ]
  },
  {
   "cell_type": "code",
   "execution_count": 16,
   "id": "certain-binary",
   "metadata": {},
   "outputs": [
    {
     "data": {
      "image/png": "[encoded data removed]",
      "text/plain": [
       "<Figure size 360x144 with 10 Axes>"
      ]
     },
     "metadata": {
      "needs_background": "light"
     },
     "output_type": "display_data"
    }
   ],
   "source": [
    "image_comparison(model, 0, x_test)"
   ]
  },
  {
   "cell_type": "code",
   "execution_count": 17,
   "id": "sweet-mattress",
   "metadata": {},
   "outputs": [
    {
     "name": "stderr",
     "output_type": "stream",
     "text": [
      "100%|██████████| 1875/1875 [01:21<00:00, 23.13it/s]\n",
      "100%|██████████| 313/313 [00:09<00:00, 33.46it/s]\n"
     ]
    },
    {
     "name": "stdout",
     "output_type": "stream",
     "text": [
      "Epoch:1, test ELBO:-177.13388061523438, time 81.08989214897156\n"
     ]
    },
    {
     "data": {
      "image/png": "[encoded data removed]",
      "text/plain": [
       "<Figure size 360x144 with 10 Axes>"
      ]
     },
     "metadata": {
      "needs_background": "light"
     },
     "output_type": "display_data"
    },
    {
     "name": "stderr",
     "output_type": "stream",
     "text": [
      "100%|██████████| 1875/1875 [01:13<00:00, 25.53it/s]\n",
      "100%|██████████| 313/313 [00:09<00:00, 33.00it/s]\n"
     ]
    },
    {
     "name": "stdout",
     "output_type": "stream",
     "text": [
      "Epoch:2, test ELBO:-170.7563934326172, time 73.44528269767761\n"
     ]
    },
    {
     "data": {
      "image/png": "[encoded data removed]",
      "text/plain": [
       "<Figure size 360x144 with 10 Axes>"
      ]
     },
     "metadata": {
      "needs_background": "light"
     },
     "output_type": "display_data"
    },
    {
     "name": "stderr",
     "output_type": "stream",
     "text": [
      "100%|██████████| 1875/1875 [01:17<00:00, 24.05it/s]\n",
      "100%|██████████| 313/313 [00:09<00:00, 33.25it/s]\n"
     ]
    },
    {
     "name": "stdout",
     "output_type": "stream",
     "text": [
      "Epoch:3, test ELBO:-166.65310668945312, time 77.95068597793579\n"
     ]
    },
    {
     "data": {
      "image/png": "[encoded data removed]",
      "text/plain": [
       "<Figure size 360x144 with 10 Axes>"
      ]
     },
     "metadata": {
      "needs_background": "light"
     },
     "output_type": "display_data"
    }
   ],
   "source": [
    "for epoch in range(1, epochs+1):\n",
    "    start_time = time.time()\n",
    "    for train_x in tqdm(train_dataset):\n",
    "        train_step(model, train_x, optimizer)\n",
    "    end_time = time.time()\n",
    "    loss = keras.metrics.Mean()\n",
    "    for test_x in tqdm(test_dataset):\n",
    "        loss(compute_loss(model, test_x))\n",
    "    elbo = -loss.result()\n",
    "    print(f\"Epoch:{epoch}, test ELBO:{elbo}, time {end_time-start_time}\")\n",
    "    image_comparison(model, epoch, x_test)"
   ]
  },
  {
   "cell_type": "code",
   "execution_count": 20,
   "id": "fifth-wildlife",
   "metadata": {},
   "outputs": [
    {
     "data": {
      "image/png": "[encoded data removed]",
      "text/plain": [
       "<Figure size 432x288 with 25 Axes>"
      ]
     },
     "metadata": {
      "needs_background": "light"
     },
     "output_type": "display_data"
    }
   ],
   "source": [
    "z_test = tf.random.uniform(shape=[25, n_z], minval=-10, maxval=10)\n",
    "z_pred = model.decode_with_sigmoid(z_test)\n",
    "for i in range(25):\n",
    "    plt.subplot(5,5,i+1)\n",
    "    plt.imshow(z_pred[i,:,:,0], cmap='gray')"
   ]
  },
  {
   "cell_type": "code",
   "execution_count": null,
   "id": "surprised-speed",
   "metadata": {},
   "outputs": [],
   "source": []
  }
 ],
 "metadata": {
  "kernelspec": {
   "display_name": "Python 3",
   "language": "python",
   "name": "python3"
  },
  "language_info": {
   "codemirror_mode": {
    "name": "ipython",
    "version": 3
   },
   "file_extension": ".py",
   "mimetype": "text/x-python",
   "name": "python",
   "nbconvert_exporter": "python",
   "pygments_lexer": "ipython3",
   "version": "3.8.7"
  }
 },
 "nbformat": 4,
 "nbformat_minor": 5
}
